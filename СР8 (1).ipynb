{
 "cells": [
  {
   "cell_type": "markdown",
   "metadata": {},
   "source": [
    "# Самостоятельная работа 8\n",
    "\n",
    "Будем реализовывать функции разных метрик ошибки и проверьте ваши функции на векторах `answers` и `prediction` из примеров.\n",
    "\n",
    "Всего 13 баллов: максимум в ведомость 10.\n",
    "Каждая функция 3 балла (можно набрать максимум определив только 3 функции из 4)\n",
    "Чтобы проверить себя, посчитайте каждую метрику с помощью соответствующей функции из библиотеки `sklearn.metrics` (каждая правильно посчитанная метрика — 0.25 балла)\n",
    "\n",
    "\n",
    "![](https://static.packt-cdn.com/products/9781838555078/graphics/C13314_06_05.jpg)"
   ]
  },
  {
   "cell_type": "code",
   "execution_count": 103,
   "metadata": {},
   "outputs": [],
   "source": [
    "from sklearn.metrics import accuracy_score\n",
    "from sklearn.metrics import precision_score\n",
    "from sklearn.metrics import recall_score\n",
    "from sklearn.metrics import f1_score"
   ]
  },
  {
   "cell_type": "code",
   "execution_count": 104,
   "metadata": {},
   "outputs": [],
   "source": [
    "answers = [0, 0, 1, 1, 1, 0, 1, 1, 1, 0, 1]\n",
    "prediction = [0, 1, 0, 1, 1, 1, 1, 1, 1, 0, 1]"
   ]
  },
  {
   "cell_type": "markdown",
   "metadata": {},
   "source": [
    "### 1. Доля верных предсказаний\n",
    "\n",
    "$$ accuracy = \\frac{TN + TP}{TN + FP + FN + TP} $$"
   ]
  },
  {
   "cell_type": "code",
   "execution_count": 105,
   "metadata": {},
   "outputs": [],
   "source": [
    "def accuracy(true,pred):\n",
    "    TN = 0\n",
    "    TP = 0\n",
    "    FP = 0\n",
    "    FN = 0\n",
    "    for i in range (0,len(pred)):\n",
    "        if true[i] == pred[i] == 0:\n",
    "            TN += 1\n",
    "        elif true[i] == pred[i] ==1:\n",
    "            TP +=1\n",
    "        elif true[i] == 0 and pred[i] ==1:\n",
    "            FP +=1\n",
    "        elif true[i] ==1 and pred [i] == 0:\n",
    "            FN +=1\n",
    "    accur = (TN + TP)/(TN+FP+FN+TP)\n",
    "    print(accur)"
   ]
  },
  {
   "cell_type": "code",
   "execution_count": 106,
   "metadata": {},
   "outputs": [
    {
     "name": "stdout",
     "output_type": "stream",
     "text": [
      "0.7272727272727273\n"
     ]
    }
   ],
   "source": [
    "accuracy(answers,prediction)"
   ]
  },
  {
   "cell_type": "code",
   "execution_count": 107,
   "metadata": {},
   "outputs": [
    {
     "data": {
      "text/plain": [
       "0.7272727272727273"
      ]
     },
     "execution_count": 107,
     "metadata": {},
     "output_type": "execute_result"
    }
   ],
   "source": [
    "accuracy_score(answers,prediction)"
   ]
  },
  {
   "cell_type": "markdown",
   "metadata": {},
   "source": [
    "### 2. Точность (Precision)\n",
    "\n",
    "$$ precision = \\frac{TP}{TP + FP} $$"
   ]
  },
  {
   "cell_type": "code",
   "execution_count": 108,
   "metadata": {},
   "outputs": [],
   "source": [
    "def precision(true,pred):\n",
    "    TP = 0\n",
    "    FP = 0\n",
    "    for i in range (0,len(pred)):\n",
    "        if true[i] == pred[i] ==1:\n",
    "            TP +=1\n",
    "        elif true[i] == 0 and pred[i] ==1:\n",
    "            FP +=1\n",
    "    prec = TP/(TP+FP)\n",
    "    print(prec)"
   ]
  },
  {
   "cell_type": "code",
   "execution_count": 109,
   "metadata": {},
   "outputs": [
    {
     "name": "stdout",
     "output_type": "stream",
     "text": [
      "0.75\n"
     ]
    }
   ],
   "source": [
    "precision(answers,prediction)"
   ]
  },
  {
   "cell_type": "code",
   "execution_count": 110,
   "metadata": {},
   "outputs": [
    {
     "data": {
      "text/plain": [
       "0.75"
      ]
     },
     "execution_count": 110,
     "metadata": {},
     "output_type": "execute_result"
    }
   ],
   "source": [
    "precision_score(answers,prediction)"
   ]
  },
  {
   "cell_type": "markdown",
   "metadata": {},
   "source": [
    "### 3. Полнота (Recall)\n",
    "\n",
    "$$ recall = \\frac{TP}{TP + FN} $$"
   ]
  },
  {
   "cell_type": "code",
   "execution_count": 111,
   "metadata": {},
   "outputs": [],
   "source": [
    "def recall(true,pred):\n",
    "    TP = 0\n",
    "    FN = 0\n",
    "    for i in range (0,len(pred)):\n",
    "        if true[i] == pred[i] ==1:\n",
    "            TP +=1\n",
    "        elif true[i] ==1 and pred [i] == 0:\n",
    "            FN +=1\n",
    "    rec = TP/(TP+FN)\n",
    "    print(rec)"
   ]
  },
  {
   "cell_type": "code",
   "execution_count": 112,
   "metadata": {},
   "outputs": [
    {
     "name": "stdout",
     "output_type": "stream",
     "text": [
      "0.8571428571428571\n"
     ]
    }
   ],
   "source": [
    "recall(answers,prediction)"
   ]
  },
  {
   "cell_type": "code",
   "execution_count": 113,
   "metadata": {},
   "outputs": [
    {
     "data": {
      "text/plain": [
       "0.8571428571428571"
      ]
     },
     "execution_count": 113,
     "metadata": {},
     "output_type": "execute_result"
    }
   ],
   "source": [
    "recall_score(answers,prediction)"
   ]
  },
  {
   "cell_type": "markdown",
   "metadata": {},
   "source": [
    "### 4. F1-мера\n",
    "\n",
    "$$ f1 = \\frac{2TP}{2TP + FP + FN} $$\n",
    "\n",
    "$$ f1 = \\frac{2 * Recall * Precision}{Precision + Recall} $$\n"
   ]
  },
  {
   "cell_type": "code",
   "execution_count": 114,
   "metadata": {},
   "outputs": [],
   "source": [
    "def f1(true,pred):\n",
    "    TP = 0\n",
    "    FP = 0\n",
    "    FN = 0\n",
    "    for i in range (0,len(pred)):\n",
    "        if true[i] == pred[i] ==1:\n",
    "            TP +=1\n",
    "        elif true[i] == 0 and pred[i] ==1:\n",
    "            FP +=1\n",
    "        elif true[i] ==1 and pred [i] == 0:\n",
    "            FN +=1\n",
    "    f1 = (2*TP)/(FP+FN+(2*TP))\n",
    "    print(f1)"
   ]
  },
  {
   "cell_type": "code",
   "execution_count": 115,
   "metadata": {},
   "outputs": [
    {
     "name": "stdout",
     "output_type": "stream",
     "text": [
      "0.8\n"
     ]
    }
   ],
   "source": [
    "f1(answers,prediction)"
   ]
  },
  {
   "cell_type": "code",
   "execution_count": 116,
   "metadata": {},
   "outputs": [
    {
     "data": {
      "text/plain": [
       "0.7999999999999999"
      ]
     },
     "execution_count": 116,
     "metadata": {},
     "output_type": "execute_result"
    }
   ],
   "source": [
    "f1_score(answers,prediction)"
   ]
  },
  {
   "cell_type": "code",
   "execution_count": null,
   "metadata": {},
   "outputs": [],
   "source": []
  }
 ],
 "metadata": {
  "kernelspec": {
   "display_name": "Python 3",
   "language": "python",
   "name": "python3"
  },
  "language_info": {
   "codemirror_mode": {
    "name": "ipython",
    "version": 3
   },
   "file_extension": ".py",
   "mimetype": "text/x-python",
   "name": "python",
   "nbconvert_exporter": "python",
   "pygments_lexer": "ipython3",
   "version": "3.8.8"
  }
 },
 "nbformat": 4,
 "nbformat_minor": 4
}
